{
 "cells": [
  {
   "cell_type": "code",
   "execution_count": 1,
   "id": "454e22b0",
   "metadata": {},
   "outputs": [],
   "source": [
    "import os\n",
    "import random as rnd\n",
    "from typing import List\n",
    "\n",
    "import cv2\n",
    "import numpy as np\n",
    "import torch\n",
    "from tqdm import tqdm"
   ]
  },
  {
   "cell_type": "code",
   "execution_count": 2,
   "id": "bdab448b",
   "metadata": {},
   "outputs": [],
   "source": [
    "BASE_DIR = \"../data/processed\"\n",
    "OUTPUT_DIR = \"../data/splits\"\n",
    "TRAIN_PCT = 0.7\n",
    "EVAL_PCT = 0.15\n",
    "TEST_PCT = 0.15"
   ]
  },
  {
   "cell_type": "code",
   "execution_count": 3,
   "id": "fdca97e2",
   "metadata": {},
   "outputs": [],
   "source": [
    "def split_image(image: np.ndarray, patch_size=256):\n",
    "    \"\"\"\n",
    "    Split an image into patches of a specified size.\n",
    "\n",
    "    Parameters:\n",
    "    - image: Input image (numpy array).\n",
    "    - patch_size: Size of each patch (int).\n",
    "\n",
    "    Returns:\n",
    "    - List of patches (list of numpy arrays).\n",
    "    \"\"\"\n",
    "    h, w = image.shape[:2]\n",
    "    new_h = ((h + patch_size - 1) // patch_size) * patch_size\n",
    "    new_w = ((w + patch_size - 1) // patch_size) * patch_size\n",
    "    image = cv2.copyMakeBorder(image, 0, new_h - h, 0, new_w - w, cv2.BORDER_CONSTANT, value=0)\n",
    "    patches = []\n",
    "\n",
    "    for i in range(0, new_h, patch_size):\n",
    "        for j in range(0, new_w, patch_size):\n",
    "            patch = image[i : i + patch_size, j : j + patch_size]\n",
    "            if patch.shape[0] == patch_size and patch.shape[1] == patch_size:\n",
    "                patches.append(patch)\n",
    "\n",
    "    return patches"
   ]
  },
  {
   "cell_type": "code",
   "execution_count": 4,
   "id": "7bb8fc9b",
   "metadata": {},
   "outputs": [],
   "source": [
    "def get_image_pairs(path: str):\n",
    "    return [os.path.join(path, file_name) for file_name in os.listdir(path) if file_name.endswith(\".jpg\")]"
   ]
  },
  {
   "cell_type": "code",
   "execution_count": 5,
   "id": "039cb494",
   "metadata": {},
   "outputs": [],
   "source": [
    "def split_images(image_path_pairs: List[np.ndarray], save_dir: str):\n",
    "    image_index = 0\n",
    "    os.makedirs(os.path.join(OUTPUT_DIR, save_dir, \"input\"), exist_ok=True)\n",
    "    os.makedirs(os.path.join(OUTPUT_DIR, save_dir, \"target\"), exist_ok=True)\n",
    "    for input_path, target_path in tqdm(image_path_pairs, desc=f\"Packing images for {save_dir}\"):\n",
    "        input_image = cv2.imread(input_path)\n",
    "        target_image = cv2.imread(target_path)\n",
    "        inputs = split_image(input_image)\n",
    "        targets = split_image(target_image)\n",
    "        for ip, tp in zip(inputs, targets):\n",
    "            if (np.count_nonzero(tp < 15) / tp.size) > 0.6:\n",
    "                continue\n",
    "            cv2.imwrite(os.path.join(OUTPUT_DIR, save_dir, \"input\", f\"{image_index}.jpg\"), ip)\n",
    "            cv2.imwrite(os.path.join(OUTPUT_DIR, save_dir, \"target\", f\"{image_index}.jpg\"), tp)\n",
    "            image_index += 1\n",
    "\n",
    "\n",
    "def save_test_images(image_path_pairs: List[np.ndarray], save_dir: str):\n",
    "    image_index = 0\n",
    "    os.makedirs(os.path.join(OUTPUT_DIR, save_dir, \"input\"), exist_ok=True)\n",
    "    os.makedirs(os.path.join(OUTPUT_DIR, save_dir, \"target\"), exist_ok=True)\n",
    "    for input_path, target_path in tqdm(image_path_pairs, desc=f\"Saving images for {save_dir}\"):\n",
    "        input_image = cv2.imread(input_path)\n",
    "        target_image = cv2.imread(target_path)\n",
    "        cv2.imwrite(os.path.join(OUTPUT_DIR, save_dir, \"input\", f\"{image_index}.jpg\"), input_image)\n",
    "        cv2.imwrite(os.path.join(OUTPUT_DIR, save_dir, \"target\", f\"{image_index}.jpg\"), target_image)\n",
    "        image_index += 1"
   ]
  },
  {
   "cell_type": "code",
   "execution_count": 6,
   "id": "57b8f8af",
   "metadata": {},
   "outputs": [
    {
     "name": "stderr",
     "output_type": "stream",
     "text": [
      "Packing images for eval: 100%|██████████| 185/185 [07:57<00:00,  2.58s/it]\n",
      "Packing images for train: 100%|██████████| 866/866 [29:32<00:00,  2.05s/it]  \n",
      "Saving images for test: 100%|██████████| 187/187 [01:59<00:00,  1.56it/s]\n"
     ]
    }
   ],
   "source": [
    "input_images = get_image_pairs(os.path.join(BASE_DIR, \"input\"))\n",
    "target_images = get_image_pairs(os.path.join(BASE_DIR, \"target\"))\n",
    "input_images.sort()\n",
    "target_images.sort()\n",
    "\n",
    "image_path_pairs = [(i, t) for i, t in zip(input_images, target_images)]\n",
    "rnd.shuffle(image_path_pairs)\n",
    "\n",
    "train_size = int(TRAIN_PCT * len(image_path_pairs))\n",
    "eval_size = int(EVAL_PCT * len(image_path_pairs))\n",
    "\n",
    "train_paths = image_path_pairs[:train_size]\n",
    "eval_paths = image_path_pairs[train_size : train_size + eval_size]\n",
    "test_paths = image_path_pairs[train_size + eval_size :]\n",
    "\n",
    "split_images(eval_paths, \"eval\")\n",
    "split_images(train_paths, \"train\")\n",
    "save_test_images(test_paths, \"test\")"
   ]
  },
  {
   "cell_type": "code",
   "execution_count": null,
   "id": "465201ab",
   "metadata": {},
   "outputs": [],
   "source": []
  }
 ],
 "metadata": {
  "kernelspec": {
   "display_name": ".venv",
   "language": "python",
   "name": "python3"
  },
  "language_info": {
   "codemirror_mode": {
    "name": "ipython",
    "version": 3
   },
   "file_extension": ".py",
   "mimetype": "text/x-python",
   "name": "python",
   "nbconvert_exporter": "python",
   "pygments_lexer": "ipython3",
   "version": "3.10.16"
  }
 },
 "nbformat": 4,
 "nbformat_minor": 5
}
