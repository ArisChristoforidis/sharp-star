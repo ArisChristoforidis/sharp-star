{
 "cells": [
  {
   "cell_type": "code",
   "execution_count": 20,
   "id": "3415c12d",
   "metadata": {},
   "outputs": [
    {
     "data": {
      "text/plain": [
       "True"
      ]
     },
     "execution_count": 20,
     "metadata": {},
     "output_type": "execute_result"
    }
   ],
   "source": [
    "import praw\n",
    "import os\n",
    "from dotenv import load_dotenv\n",
    "from tqdm import tqdm\n",
    "import requests\n",
    "from time import sleep\n",
    "load_dotenv()"
   ]
  },
  {
   "cell_type": "code",
   "execution_count": 21,
   "id": "256ae618",
   "metadata": {},
   "outputs": [],
   "source": [
    "reddit = praw.Reddit(\n",
    "    client_id=os.getenv(\"REDDIT_CLIENT_ID\"),\n",
    "    client_secret=os.getenv(\"REDDIT_CLIENT_SECRET\"),\n",
    "    user_agent=os.getenv(\"REDDIT_USER_AGENT\"),\n",
    "    username=os.getenv(\"REDDIT_USERNAME\"),\n",
    "    password=os.getenv(\"REDDIT_PASSWORD\"),\n",
    ")"
   ]
  },
  {
   "cell_type": "code",
   "execution_count": 22,
   "id": "251fe30a",
   "metadata": {},
   "outputs": [],
   "source": [
    "ACCEPTED_FLAIRS = [\"Nebulae\", \"Planetary\", \"Lunar\", \"Galaxies\", \"DSOs\", \"Widefield\"]\n",
    "BASE_DIR = '../data/raw'\n",
    "for flair in ACCEPTED_FLAIRS:\n",
    "    os.makedirs(os.path.join(BASE_DIR, flair), exist_ok=True)\n"
   ]
  },
  {
   "cell_type": "code",
   "execution_count": 26,
   "id": "3be10110",
   "metadata": {},
   "outputs": [
    {
     "name": "stderr",
     "output_type": "stream",
     "text": [
      " 21%|██▏       | 213/1000 [05:27<20:10,  1.54s/it]"
     ]
    },
    {
     "name": "stdout",
     "output_type": "stream",
     "text": [
      "Successfully retrieved 159 top posts from r/astrophotography (15.90%)\n"
     ]
    },
    {
     "name": "stderr",
     "output_type": "stream",
     "text": [
      "\n"
     ]
    }
   ],
   "source": [
    "SUBREDDIT_NAME = \"astrophotography\" \n",
    "N_POSTS = 1000\n",
    "subreddit = reddit.subreddit(SUBREDDIT_NAME)\n",
    "\n",
    "top_posts = subreddit.top(limit=N_POSTS, time_filter=\"month\")\n",
    "post_count = 0\n",
    "for post in tqdm(top_posts, total=N_POSTS):\n",
    "    flair = post.link_flair_text\n",
    "    url = post.url\n",
    "    if post.score < 100: break\n",
    "    if flair in ACCEPTED_FLAIRS and (url.endswith(\".jpeg\") or url.endswith(\".jpg\")):\n",
    "        post_count += 1\n",
    "        flair_dir = os.path.join(BASE_DIR, flair)\n",
    "        file_name = os.path.join(flair_dir, os.path.basename(url))\n",
    "        with open(file_name, \"wb\") as f: f.write(requests.get(url).content)\n",
    "    sleep(1) # Be kind\n",
    "\n",
    "print(f\"Successfully retrieved {post_count} top posts from r/{SUBREDDIT_NAME} ({post_count/N_POSTS:.2%})\")"
   ]
  }
 ],
 "metadata": {
  "kernelspec": {
   "display_name": ".venv",
   "language": "python",
   "name": "python3"
  },
  "language_info": {
   "codemirror_mode": {
    "name": "ipython",
    "version": 3
   },
   "file_extension": ".py",
   "mimetype": "text/x-python",
   "name": "python",
   "nbconvert_exporter": "python",
   "pygments_lexer": "ipython3",
   "version": "3.10.16"
  }
 },
 "nbformat": 4,
 "nbformat_minor": 5
}
