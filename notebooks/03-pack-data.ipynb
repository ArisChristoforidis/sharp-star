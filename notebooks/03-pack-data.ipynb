{
 "cells": [
  {
   "cell_type": "code",
   "execution_count": null,
   "id": "2af37abe",
   "metadata": {},
   "outputs": [],
   "source": [
    "import cv2"
   ]
  },
  {
   "cell_type": "code",
   "execution_count": null,
   "id": "bdab448b",
   "metadata": {},
   "outputs": [],
   "source": [
    "BASE_DIR = \"../data/processed\"\n",
    "OUT_DIR = \"../data/packed\""
   ]
  },
  {
   "cell_type": "code",
   "execution_count": null,
   "id": "7bb8fc9b",
   "metadata": {},
   "outputs": [],
   "source": [
    "def split_image(image, patch_size=256):\n",
    "    \"\"\"\n",
    "    Split an image into patches of a specified size.\n",
    "\n",
    "    Parameters:\n",
    "    - image: Input image (numpy array).\n",
    "    - patch_size: Size of each patch (int).\n",
    "\n",
    "    Returns:\n",
    "    - List of patches (list of numpy arrays).\n",
    "    \"\"\"\n",
    "    h, w = image.shape[:2]\n",
    "    new_h = ((h + patch_size - 1) // patch_size) * patch_size\n",
    "    new_w = ((w + patch_size - 1) // patch_size) * patch_size\n",
    "    image = cv2.copyMakeBorder(image, 0, new_h - h, 0, new_w - w, cv2.BORDER_CONSTANT, value=0)\n",
    "    patches = []\n",
    "\n",
    "    for i in range(0, new_h, patch_size):\n",
    "        for j in range(0, new_w, patch_size):\n",
    "            patch = image[i:i + patch_size, j:j + patch_size]\n",
    "            if patch.shape[0] == patch_size and patch.shape[1] == patch_size:\n",
    "                patches.append(patch)\n",
    "\n",
    "    return patches"
   ]
  },
  {
   "cell_type": "code",
   "execution_count": null,
   "id": "57b8f8af",
   "metadata": {},
   "outputs": [],
   "source": [
    "\"\"\"\n",
    "# Save the patches to disk\n",
    "patch_idx = 0\n",
    "for input_patch, target_patch in zip(input_patches, target_patches):\n",
    "    if np.all(target_patch <= 5): continue\n",
    "    input_filename = os.path.join(OUTPUT_DIR, 'input', f'{image_idx}_{patch_idx}.jpg')\n",
    "    target_filename = os.path.join(OUTPUT_DIR, 'target', f'{image_idx}_{patch_idx}.jpg')\n",
    "    cv2.imwrite(input_filename, input_patch)\n",
    "    cv2.imwrite(target_filename, target_patch)\n",
    "    patch_idx += 1\n",
    "\"\"\""
   ]
  }
 ],
 "metadata": {
  "kernelspec": {
   "display_name": ".venv",
   "language": "python",
   "name": "python3"
  },
  "language_info": {
   "name": "python",
   "version": "3.10.16"
  }
 },
 "nbformat": 4,
 "nbformat_minor": 5
}
